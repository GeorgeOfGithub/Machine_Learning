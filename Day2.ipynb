{
 "cells": [
  {
   "cell_type": "markdown",
   "metadata": {},
   "source": []
  },
  {
   "cell_type": "code",
   "execution_count": 60,
   "metadata": {},
   "outputs": [
    {
     "data": {
      "image/png": "[encoded data removed]",
      "text/plain": [
       "<Figure size 640x480 with 1 Axes>"
      ]
     },
     "metadata": {},
     "output_type": "display_data"
    }
   ],
   "source": [
    "import numpy as np\n",
    "import numpy.matlib\n",
    "import matplotlib.pyplot as plt\n",
    "\n",
    "# In the following we sample from Gaussian distribution to generate 3 clusters\n",
    "L = 10000;\n",
    "\n",
    "mu_1 = np.array([5, 5]); # mean \n",
    "Sigma_1 = np.array([[1, 0.5],[ 0.5, 1]]); # covariance\n",
    "X_1 = np.random.multivariate_normal(mu_1,Sigma_1,L); # drawing samples from 2D Gaussian ditribution\n",
    "\n",
    "mu_2 = np.array([-2, -4]);\n",
    "Sigma_2 = np.array([[3, 0], [0, 1]]);\n",
    "X_2 = np.random.multivariate_normal(mu_2,Sigma_2,L);\n",
    "\n",
    "mu_3 = np.array([-6, 3]);\n",
    "Sigma_3 = np.array([[3, 1], [1, 1]]);\n",
    "X_3 = np.random.multivariate_normal(mu_3,Sigma_3,L);\n",
    "\n",
    "\n",
    "#figure\n",
    "plt.plot(X_1[:,0],X_1[:,1],'bs','MarkerSize',10)\n",
    "plt.plot(X_3[:,0],X_3[:,1],'gs','MarkerSize',10)\n",
    "plt.plot(X_2[:,0],X_2[:,1],'rs','MarkerSize',10) \n",
    "\n",
    "plt.xlabel('x_1')\n",
    "plt.ylabel('x_2')\n",
    "plt.legend(['Class 1','Class 2', 'Class 3'])\n",
    "plt.show\n",
    "\n",
    "# Classification (2 classes)\n",
    "C_1 = np.matlib.repmat([0,1],L,1); # generate labels for Class 1\n",
    "C_2 = np.matlib.repmat([1,0],L,1); # generate labels for Class 2\n",
    "\n",
    "C = np.concatenate((C_1,C_2))\n",
    "X = np.concatenate((X_1,X_2))\n",
    "\n",
    "# data set containing two classes\n",
    "data_set = np.concatenate([X,C],1); # form the data set. Samples X_1 and X_2 belong to Class 1 and 2, respectivelly. \n",
    "\n",
    "rand_int = np.random.permutation(len(data_set)); # random vector generation\n",
    "data_set = data_set[rand_int,:] # random shuffling of the data set.\n",
    "\n",
    "# Data_set is a 20000x4 with\n",
    "# x_1,x_2,c_1,c_2"
   ]
  },
  {
   "cell_type": "code",
   "execution_count": 58,
   "metadata": {},
   "outputs": [
    {
     "name": "stdout",
     "output_type": "stream",
     "text": [
      "0\n"
     ]
    }
   ],
   "source": [
    "# My code!\n",
    "percent_for_train = 0.8\n",
    "amount = int(percent_for_train*len(data_set))\n",
    "\n",
    "train_dataset = data_set[0:amount,:]\n",
    "test_dataset = data_set[amount+1:,:]\n",
    "\n",
    "# Least Squares method\n",
    "x = np.array([np.ones(len(train_dataset)),train_dataset[:,0],train_dataset[:,1]]).T\n",
    "t = np.array([train_dataset[:,2],train_dataset[:,3]]).T\n",
    "W = np.linalg.inv(x.T@x)@x.T@t\n",
    "y = np.array([np.zeros(len(train_dataset)),np.zeros(len(train_dataset))]).T\n",
    "\n",
    "# Computing y\n",
    "for i in range(len(train_dataset)):\n",
    "    x = np.array([1,train_dataset[i,0],train_dataset[i,1]])\n",
    "    y[i] = W.T@x\n",
    "    np.append(y,W.T@x)\n",
    "\n",
    "# Calculating t\n",
    "t_calc = np.array([np.zeros(len(train_dataset)),np.zeros(len(train_dataset))]).T\n",
    "classification_errors = 0\n",
    "\n",
    "# the perceptron borrowed from oliver\n",
    "for i, classification in enumerate(y):\n",
    "    if np.argmax(classification) == np.argmax(t[i]):\n",
    "        # Succes!\n",
    "        continue\n",
    "    else:\n",
    "        classification_errors = classification_errors + 1\n",
    "\n",
    "print(classification_errors)\n",
    "\n",
    "\n"
   ]
  },
  {
   "attachments": {},
   "cell_type": "markdown",
   "metadata": {},
   "source": [
    "Exercise 1.2"
   ]
  },
  {
   "cell_type": "code",
   "execution_count": 61,
   "metadata": {},
   "outputs": [],
   "source": [
    "# creating data with 3 classes\n",
    "\n",
    "C_1 = np.matlib.repmat([0,1,0],L,1); # generate labels for Class 1\n",
    "C_2 = np.matlib.repmat([1,0,0],L,1); # generate labels for Class 2\n",
    "C_3 = np.matlib.repmat([0,0,1],L,1); # generate labels for Class 2\n",
    "\n",
    "C = np.concatenate((C_1,C_2,C_3))\n",
    "X = np.concatenate((X_1,X_2,X_3))\n",
    "\n",
    "# data set containing two classes\n",
    "data_set = np.concatenate([X,C],1); # form the data set. Samples X_1 and X_2 belong to Class 1 and 2, respectivelly. \n",
    "\n",
    "rand_int = np.random.permutation(len(data_set)); # random vector generation\n",
    "data_set = data_set[rand_int,:] # random shuffling of the data set.\n",
    "\n",
    "# Data_set is a 20000x5 with\n",
    "# x_1,x_2,c_1,c_2,c_3"
   ]
  },
  {
   "cell_type": "code",
   "execution_count": 72,
   "metadata": {},
   "outputs": [
    {
     "name": "stdout",
     "output_type": "stream",
     "text": [
      "5\n"
     ]
    }
   ],
   "source": [
    "# It is not really different between 2 and 3 classes\n",
    "percent_for_train = 0.8\n",
    "amount = int(percent_for_train*len(data_set))\n",
    "\n",
    "train_dataset = data_set[0:amount,:]\n",
    "test_dataset = data_set[amount+1:,:]\n",
    "\n",
    "# Least Squares method\n",
    "x = np.array([np.ones(len(train_dataset)),train_dataset[:,0],train_dataset[:,1]]).T\n",
    "t = np.array([train_dataset[:,2],train_dataset[:,3],train_dataset[:,4]]).T # t is 1 longer\n",
    "W = np.linalg.inv(x.T@x)@x.T@t\n",
    "y = np.array([np.zeros(len(train_dataset)),np.zeros(len(train_dataset)),np.zeros(len(train_dataset))]).T # y is 1 longer\n",
    "\n",
    "for i in range(len(train_dataset)):\n",
    "    x = np.array([1,train_dataset[i,0],train_dataset[i,1]])\n",
    "    y[i] = W.T@x\n",
    "    np.append(y,W.T@x)\n",
    "\n",
    "\n",
    "t_calc = np.array([np.zeros(len(train_dataset)),np.zeros(len(train_dataset)),np.zeros(len(train_dataset))]).T\n",
    "classification_errors = 0\n",
    "\n",
    "# the perceptron borrowed from oliver\n",
    "for i, classification in enumerate(y):\n",
    "    if np.argmax(classification) == np.argmax(t[i]):\n",
    "        # Succes!\n",
    "        continue\n",
    "    else:\n",
    "        classification_errors = classification_errors + 1\n",
    "\n",
    "print(classification_errors)\n"
   ]
  },
  {
   "attachments": {},
   "cell_type": "markdown",
   "metadata": {},
   "source": [
    "Exercise 2"
   ]
  },
  {
   "cell_type": "code",
   "execution_count": 73,
   "metadata": {},
   "outputs": [],
   "source": [
    "# Calssification (2 classes)\n",
    "C_1 = np.matlib.repmat([0,1],L,1); # generate labels for Class 1\n",
    "C_2 = np.matlib.repmat([1,0],L,1); # generate labels for Class 2\n",
    "\n",
    "C = np.concatenate((C_1,C_2))\n",
    "X = np.concatenate((X_1,X_2))\n",
    "\n",
    "# data set containing two classes\n",
    "data_set = np.concatenate([X,C],1); # form the data set. Samples X_1 and X_2 belong to Class 1 and 2, respectivelly. \n",
    "\n",
    "rand_int = np.random.permutation(len(data_set)); # random vector generation\n",
    "data_set = data_set[rand_int,:] # random shuffling of the data set.\n",
    "\n",
    "# Data_set is a 20000x4 with\n",
    "# x_1,x_2,c_1,c_2"
   ]
  },
  {
   "cell_type": "code",
   "execution_count": null,
   "metadata": {},
   "outputs": [],
   "source": []
  },
  {
   "cell_type": "code",
   "execution_count": null,
   "metadata": {},
   "outputs": [],
   "source": [
    "\n",
    "\n",
    "for i, classification in enumerate(y_x,0):\n",
    "\n",
    "    class1 = (classification[0] >= classification[1] and true_class[i][0] == 1)\n",
    "    class2 = (classification[0] < classification[1] and true_class[i][1] == 1)\n",
    "    if np.argmax(classification) == np.argmax(true_class[i]):\n",
    "        # Succes!\n",
    "        continue\n",
    "    else:\n",
    "        classification_errors = classification_errors + 1"
   ]
  }
 ],
 "metadata": {
  "kernelspec": {
   "display_name": "Python 3",
   "language": "python",
   "name": "python3"
  },
  "language_info": {
   "codemirror_mode": {
    "name": "ipython",
    "version": 3
   },
   "file_extension": ".py",
   "mimetype": "text/x-python",
   "name": "python",
   "nbconvert_exporter": "python",
   "pygments_lexer": "ipython3",
   "version": "3.10.2"
  },
  "orig_nbformat": 4,
  "vscode": {
   "interpreter": {
    "hash": "20c982878f3d0e2dee06bd56f48592c91084aa8895849eadebb93ccf43628c2f"
   }
  }
 },
 "nbformat": 4,
 "nbformat_minor": 2
}
