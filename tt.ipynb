{
 "cells": [
  {
   "cell_type": "code",
   "execution_count": 14,
   "metadata": {},
   "outputs": [
    {
     "name": "stderr",
     "output_type": "stream",
     "text": [
      "C:\\Users\\Morten\\AppData\\Local\\Temp\\ipykernel_18488\\2708033429.py:5: RuntimeWarning: overflow encountered in exp\n",
      "  return 1 / (1 + np.exp(-x))\n"
     ]
    },
    {
     "ename": "ValueError",
     "evalue": "shapes (3,) and (2,4) not aligned: 3 (dim 0) != 2 (dim 0)",
     "output_type": "error",
     "traceback": [
      "\u001b[1;31m---------------------------------------------------------------------------\u001b[0m",
      "\u001b[1;31mValueError\u001b[0m                                Traceback (most recent call last)",
      "Cell \u001b[1;32mIn[14], line 65\u001b[0m\n\u001b[0;32m     63\u001b[0m \u001b[39m# Test the neural network\u001b[39;00m\n\u001b[0;32m     64\u001b[0m test_input \u001b[39m=\u001b[39m np\u001b[39m.\u001b[39marray([\u001b[39m1\u001b[39m, \u001b[39m0\u001b[39m, \u001b[39m0\u001b[39m])\n\u001b[1;32m---> 65\u001b[0m result \u001b[39m=\u001b[39m sigmoid(np\u001b[39m.\u001b[39mdot(sigmoid(np\u001b[39m.\u001b[39;49mdot(test_input, w1)), w2))\n\u001b[0;32m     66\u001b[0m \u001b[39mprint\u001b[39m(result)\n",
      "File \u001b[1;32m<__array_function__ internals>:180\u001b[0m, in \u001b[0;36mdot\u001b[1;34m(*args, **kwargs)\u001b[0m\n",
      "\u001b[1;31mValueError\u001b[0m: shapes (3,) and (2,4) not aligned: 3 (dim 0) != 2 (dim 0)"
     ]
    }
   ],
   "source": [
    "import numpy as np\n",
    "import numpy.matlib\n",
    "# Define the sigmoid activation function\n",
    "def sigmoid(x):\n",
    "    return 1 / (1 + np.exp(-x))\n",
    "\n",
    "# Define the derivative of the sigmoid function\n",
    "def sigmoid_derivative(x):\n",
    "    return x * (1 - x)\n",
    "eta = 0.09\n",
    "# Define the training inputs and outputs\n",
    "L = 10000;\n",
    "\n",
    "mu_1 = np.array([5, 5]); # mean \n",
    "Sigma_1 = np.array([[1, 0.5],[ 0.5, 1]]); # covariance\n",
    "X_1 = np.random.multivariate_normal(mu_1,Sigma_1,L); # drawing samples from 2D Gaussian ditribution\n",
    "\n",
    "mu_2 = np.array([-2, -4]);\n",
    "Sigma_2 = np.array([[3, 0], [0, 1]]);\n",
    "X_2 = np.random.multivariate_normal(mu_2,Sigma_2,L);\n",
    "\n",
    "mu_3 = np.array([-6, 3]);\n",
    "Sigma_3 = np.array([[3, 1], [1, 1]]);\n",
    "X_3 = np.random.multivariate_normal(mu_3,Sigma_3,L);\n",
    "\n",
    "\n",
    "# Classification (2 classes)\n",
    "C_1 = np.matlib.repmat([0,1],L,1); # generate labels for Class 1\n",
    "C_2 = np.matlib.repmat([1,0],L,1); # generate labels for Class 2\n",
    "\n",
    "y = np.concatenate((C_1,C_2))\n",
    "X = np.concatenate((X_1,X_2))\n",
    "\n",
    "t_test =y[:,0]\n",
    "for i in range(len(t_test)):\n",
    "    if t_test[i] == 0:\n",
    "        t_test[i] = -1\n",
    "\n",
    "\n",
    "# Initialize the weights randomly\n",
    "np.random.seed(1)\n",
    "w1 = 2 * np.random.random((2, 4)) - 1\n",
    "w2 = 2 * np.random.random((4, 2)) - 1\n",
    "\n",
    "# Train the neural network\n",
    "for i in range(10000):\n",
    "    \n",
    "    # Forward propagation\n",
    "    layer1 = sigmoid(np.dot(X, w1))\n",
    "    layer2 = sigmoid(np.dot(layer1, w2))\n",
    "    \n",
    "    # Calculate the error\n",
    "    error = y - layer2\n",
    "    \n",
    "    # Backpropagation\n",
    "    layer2_delta = error * sigmoid_derivative(layer2)\n",
    "    layer1_delta = layer2_delta.dot(w2.T) * sigmoid_derivative(layer1)\n",
    "    \n",
    "    # Update the weights\n",
    "    w2 += eta * layer1.T.dot(layer2_delta)\n",
    "    w1 += eta * X.T.dot(layer1_delta)\n",
    "\n",
    "# Test the neural network\n",
    "test_input = np.array([1, 0, 0])\n",
    "result = sigmoid(np.dot(sigmoid(np.dot(test_input, w1)), w2))\n",
    "print(result)"
   ]
  }
 ],
 "metadata": {
  "kernelspec": {
   "display_name": "Python 3",
   "language": "python",
   "name": "python3"
  },
  "language_info": {
   "codemirror_mode": {
    "name": "ipython",
    "version": 3
   },
   "file_extension": ".py",
   "mimetype": "text/x-python",
   "name": "python",
   "nbconvert_exporter": "python",
   "pygments_lexer": "ipython3",
   "version": "3.10.2"
  },
  "orig_nbformat": 4
 },
 "nbformat": 4,
 "nbformat_minor": 2
}
