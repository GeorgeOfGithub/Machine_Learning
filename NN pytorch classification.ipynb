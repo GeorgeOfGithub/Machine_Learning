{
 "cells": [
  {
   "cell_type": "code",
   "execution_count": 7,
   "metadata": {},
   "outputs": [],
   "source": [
    "import numpy as np\n",
    "import numpy.matlib\n",
    "import matplotlib.pyplot as plt\n",
    "import torch\n",
    "import torch.nn as nn\n",
    "import torch.optim as optim\n",
    "\n",
    "def Neural_Network_Inator(input_size, no_hidden_nodes, output_size, eta, no_epochs):\n",
    "\n",
    "# Define the neural network architecture\n",
    "    class Net(nn.Module):\n",
    "        def __init__(self, input_size, no_hidden_nodes,output_size):\n",
    "            super(Net, self).__init__()\n",
    "            self.fc1 = nn.Linear(input_size, no_hidden_nodes)\n",
    "            self.fc2 = nn.Linear(no_hidden_nodes, output_size)\n",
    "\n",
    "        def forward(self, x):\n",
    "            x = torch.tanh(self.fc1(x))\n",
    "            #x = torch.relu(self.fc1(x))\n",
    "            x = torch.softmax(self.fc2(x),dim=1)\n",
    "            return x\n",
    "\n",
    "    net = Net(input_size, no_hidden_nodes,output_size)\n",
    "\n",
    "    # Define the loss function and optimizer\n",
    "    criterion = nn.MSELoss()\n",
    "    optimizer = optim.SGD(net.parameters(), lr=eta)\n",
    "\n",
    "    # Train the model for N epochs\n",
    "    for epoch in range(no_epochs):\n",
    "        # Zero the gradients\n",
    "        optimizer.zero_grad()\n",
    "\n",
    "        # Forward pass\n",
    "        outputs = net(input_data)\n",
    "\n",
    "        # Compute the loss\n",
    "        loss = criterion(outputs, labels)\n",
    "\n",
    "        # Backward pass and update the weights\n",
    "        loss.backward()\n",
    "        optimizer.step()\n",
    "    return net"
   ]
  },
  {
   "cell_type": "code",
   "execution_count": 8,
   "metadata": {},
   "outputs": [
    {
     "data": {
      "image/png": "[encoded data removed]",
      "text/plain": [
       "<Figure size 640x480 with 1 Axes>"
      ]
     },
     "metadata": {},
     "output_type": "display_data"
    }
   ],
   "source": [
    "# In the following we sample from Gaussian distribution to generate 3 clusters\n",
    "L = 100;\n",
    "\n",
    "mu_1 = np.array([5, 5]); # mean \n",
    "Sigma_1 = np.array([[1, 0.5],[ 0.5, 1]]); # covariance\n",
    "X_1 = np.random.multivariate_normal(mu_1,Sigma_1,L); # drawing samples from 2D Gaussian ditribution\n",
    "\n",
    "mu_2 = np.array([-2, -4]);\n",
    "Sigma_2 = np.array([[3, 0], [0, 1]]);\n",
    "X_2 = np.random.multivariate_normal(mu_2,Sigma_2,L);\n",
    "\n",
    "mu_3 = np.array([-6, 3]);\n",
    "Sigma_3 = np.array([[3, 1], [1, 1]]);\n",
    "X_3 = np.random.multivariate_normal(mu_3,Sigma_3,L);\n",
    "\n",
    "mu_4 = np.array([-14, -5]);\n",
    "Sigma_4 = np.array([[2, 0.5], [0.5, 1]]);\n",
    "X_4 = np.random.multivariate_normal(mu_4,Sigma_4,L);\n",
    "\n",
    "#figure\n",
    "plt.plot(X_1[:,0],X_1[:,1],'bs','MarkerSize',10)\n",
    "plt.plot(X_2[:,0],X_2[:,1],'gs','MarkerSize',10)\n",
    "plt.plot(X_3[:,0],X_3[:,1],'rs','MarkerSize',10) \n",
    "plt.plot(X_4[:,0],X_4[:,1],'ys','MarkerSize',10) \n",
    "\n",
    "plt.xlabel('x_1')\n",
    "plt.ylabel('x_2')\n",
    "plt.legend(['Class 1','Class 2', 'Class 3'])\n",
    "plt.show\n",
    "\n",
    "\n",
    "# Classification (2 classes)\n",
    "C_1 = np.matlib.repmat([0,0,0,1],L,1); # generate labels for Class 1\n",
    "C_2 = np.matlib.repmat([0,0,1,0],L,1); # generate labels for Class 2\n",
    "C_3 = np.matlib.repmat([0,1,0,0],L,1);\n",
    "C_4 = np.matlib.repmat([1,0,0,0],L,1);\n",
    "\n",
    "C = np.concatenate((C_1,C_2,C_3,C_4))\n",
    "X = np.concatenate((X_1,X_2,X_3,X_4))\n",
    "\n",
    "# data set containing two classes\n",
    "data_set = np.concatenate([X,C],1); # form the data set. Samples X_1 and X_2 belong to Class 1 and 2, respectivelly. \n",
    "#data_set = np.concatenate([data_set,C2],1);\n",
    "\n",
    "\n",
    "rand_int = np.random.permutation(len(data_set)); # random vector generation\n",
    "data_set = data_set[rand_int,:] # random shuffling of the data set.\n",
    "\n",
    "# Data_set is a 20000x4 with\n",
    "# x_1,x_2,c_1,c_2"
   ]
  },
  {
   "cell_type": "code",
   "execution_count": 9,
   "metadata": {},
   "outputs": [],
   "source": [
    "# Creating training and test data to tensor\n",
    "percent_for_train = 0.8\n",
    "amount = int(percent_for_train*len(data_set))\n",
    "\n",
    "train_dataset = data_set[0:amount,:]\n",
    "test_dataset = data_set[amount+1:,:]\n",
    "\n",
    "train_dataset =torch.tensor(train_dataset)\n",
    "test_dataset = torch.tensor(test_dataset)\n",
    "train_dataset = train_dataset.clone().detach()\n",
    "test_dataset = test_dataset.clone().detach()"
   ]
  },
  {
   "cell_type": "code",
   "execution_count": 10,
   "metadata": {},
   "outputs": [],
   "source": [
    "# Define the training data\n",
    "input_data = train_dataset[:,:2]\n",
    "input_data = torch.reshape(input_data,(amount,2))\n",
    "input_data = input_data.to(torch.float32)\n",
    "\n",
    "\n",
    "# Define the labels\n",
    "labels = train_dataset[:,2:]\n",
    "labels = torch.reshape(labels,(amount,4))\n",
    "labels = labels.to(torch.float32)"
   ]
  },
  {
   "cell_type": "code",
   "execution_count": 11,
   "metadata": {},
   "outputs": [],
   "source": [
    "net = Neural_Network_Inator(2,50,4,0.09,1000)"
   ]
  },
  {
   "cell_type": "code",
   "execution_count": 12,
   "metadata": {},
   "outputs": [
    {
     "name": "stdout",
     "output_type": "stream",
     "text": [
      "The number of classification errors is: 0 out of 79\n"
     ]
    }
   ],
   "source": [
    "test_input = test_dataset[:,:2]\n",
    "test_input = torch.reshape(test_input,(79,2))\n",
    "test_input = test_input.to(torch.float32)\n",
    "output = net(test_input)\n",
    "t_calc = []\n",
    "for i in range(len(output)):\n",
    "    result = [tensor.item() for tensor in output[i]]\n",
    "    t_calc.append(result)\n",
    "\n",
    "t = []\n",
    "for i in range(len(test_dataset)):\n",
    "    result = [tensor.item() for tensor in test_dataset[i,2:]]\n",
    "    t.append(result)\n",
    "\n",
    "classification_errors = 0\n",
    "#t = test_dataset[:,2:]\n",
    "#t_pred = np.array([t_test1,t_test2,t_test3,t_test4])\n",
    "for i, classification in enumerate(t):\n",
    "    if np.argmax(t_calc[i]) == np.argmax(classification):\n",
    "        # Succes!\n",
    "        continue\n",
    "    else:\n",
    "        classification_errors = classification_errors + 1    \n",
    "\n",
    "\n",
    "\n",
    "print(f'The number of classification errors is: {classification_errors} out of {len(t)}')"
   ]
  }
 ],
 "metadata": {
  "kernelspec": {
   "display_name": "Python 3",
   "language": "python",
   "name": "python3"
  },
  "language_info": {
   "codemirror_mode": {
    "name": "ipython",
    "version": 3
   },
   "file_extension": ".py",
   "mimetype": "text/x-python",
   "name": "python",
   "nbconvert_exporter": "python",
   "pygments_lexer": "ipython3",
   "version": "3.10.2"
  },
  "orig_nbformat": 4
 },
 "nbformat": 4,
 "nbformat_minor": 2
}
