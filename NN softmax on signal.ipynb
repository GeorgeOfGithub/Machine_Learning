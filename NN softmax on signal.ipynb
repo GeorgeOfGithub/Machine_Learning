{
 "cells": [
  {
   "cell_type": "code",
   "execution_count": 999,
   "metadata": {},
   "outputs": [],
   "source": [
    "import numpy as np\n",
    "import numpy.matlib\n",
    "import matplotlib.pyplot as plt\n",
    "from scipy.special import expit, logit, softmax\n",
    "\n",
    "L = 20\n",
    "sigma = 0.2\n",
    "eta = 0.09\n",
    "\n",
    "input = np.array([[-3],[-1],[1],[3]])\n",
    "output = np.array([[0,0,0,1],[0,0,1,0],[0,1,0,0],[1,0,0,0]])\n",
    "\n",
    "\n",
    "\n",
    "data_set_t = []\n",
    "data_set_x = []\n",
    "for i in range(L):\n",
    "    n = numpy.random.randint(0,4)\n",
    "    data_set_t.append(output[n])\n",
    "    data_set_x.append(input[n])\n",
    "\n",
    "#data_set_t_noise = data_set_t + sigma*np.random.randn(len(data_set_t),4)\n",
    "\n",
    "data_set = np.hstack((data_set_x,data_set_t))\n",
    "\n",
    "def der_sigmoid(x):\n",
    "    return expit(-x) * (1-expit(-x))\n",
    "\n",
    "percent_for_train = 0.8\n",
    "amount = int(percent_for_train*len(data_set))\n",
    "\n",
    "train_dataset = data_set[0:amount,:]\n",
    "test_dataset = data_set[amount+1:,:]\n",
    "\n",
    "\n",
    "\n"
   ]
  },
  {
   "cell_type": "code",
   "execution_count": 1000,
   "metadata": {},
   "outputs": [],
   "source": [
    "# for i in range(len(x[0,:])):\n",
    "#     x_i = x[i].reshape((1,2))\n",
    "\n",
    "#     aj = (W_ji @ x_i[0])\n",
    "    \n",
    "#     zj = expit(-aj)\n",
    "#     yk = W_kj@zj\n",
    "#     t_calc = softmax(yk)\n",
    "\n",
    "#     dk = t_calc - t[i]\n",
    "\n",
    "#     # dj = (der_sigmoid(zj)*W_kj*dk.T)\n",
    "\n",
    "#     # W_ji = W_ji - eta*dj.T@x_i.T\n",
    "#     # W_kj = W_kj - eta*dk*zj        \n",
    "#     dj = (np.dot(W_kj.T,dk)*der_sigmoid(zj))[1:]\n",
    "#     W_ji = W_ji - eta*dj@x_i.T\n",
    "#     W_kj = W_kj - eta*np.dot(dk,x_i[0])"
   ]
  },
  {
   "cell_type": "code",
   "execution_count": 1001,
   "metadata": {},
   "outputs": [],
   "source": [
    "W_ji= np.random.rand(3,2)\n",
    "W_kj = np.random.rand(4,3)\n",
    "np.ones(len(train_dataset[0,:]))\n",
    "x = np.vstack((np.ones(len(train_dataset[:,0])),train_dataset[:,1].T))\n",
    "# x = train_dataset[:,1].T\n",
    "# x = np.reshape(x,(1,8))"
   ]
  },
  {
   "cell_type": "code",
   "execution_count": 1002,
   "metadata": {},
   "outputs": [],
   "source": [
    "for _ in range(1000):\n",
    "    # forward\n",
    "    aj = np.dot(W_ji,x)\n",
    "    zj = expit(-aj)\n",
    "    yk = np.dot(W_kj,zj)\n",
    "    t_calc = softmax(yk,0)\n",
    "\n",
    "    # backward\n",
    "    dk = t_calc[:,:] - train_dataset[:,1:].T\n",
    "    dj = der_sigmoid(zj)*np.dot(W_kj.T,dk)\n",
    "    W_ji = W_ji - eta*np.dot(dj,x.T)\n",
    "    W_kj = W_kj - eta*np.dot(dk,zj.T)\n"
   ]
  },
  {
   "cell_type": "code",
   "execution_count": 1003,
   "metadata": {},
   "outputs": [
    {
     "name": "stdout",
     "output_type": "stream",
     "text": [
      "[0.28641419 0.23935345 0.1848779  0.28935446]\n",
      "[0 0 0 1]\n",
      "-0.006299298214420649\n",
      "3\n",
      "3\n"
     ]
    }
   ],
   "source": [
    "print(t_calc[:,0])\n",
    "print(train_dataset[0,1:].T)\n",
    "print(eta*np.dot(dj[0],x[0].T))\n",
    "print(np.argmax(t_calc[:,0]))\n",
    "print(np.argmax(train_dataset[0,1:].T))"
   ]
  },
  {
   "cell_type": "code",
   "execution_count": 230,
   "metadata": {},
   "outputs": [],
   "source": [
    "# Testing\n",
    "x = np.vstack((np.ones(len(test_dataset[:,0])),test_dataset[:,1].T))\n",
    "aj = np.dot(W_ji,x)\n",
    "zj = expit(-aj)\n",
    "yk = np.dot(W_kj,zj)\n",
    "t_calc = softmax(yk,0)"
   ]
  },
  {
   "cell_type": "code",
   "execution_count": 231,
   "metadata": {},
   "outputs": [
    {
     "name": "stdout",
     "output_type": "stream",
     "text": [
      "The number of classification errors with logistic regression is: 1 out of 1 \n",
      "which is 100.0%\n"
     ]
    }
   ],
   "source": [
    "classification_errors = 0\n",
    "t = test_dataset[:,1:].T\n",
    "for i in range(len(t[0,:])):\n",
    "    if np.argmax(t_calc[:,i]) == np.argmax(t[:,i]):\n",
    "        # Succes!\n",
    "        continue\n",
    "    else:\n",
    "        classification_errors = classification_errors + 1    \n",
    "\n",
    "print(f'The number of classification errors with logistic regression is: {classification_errors} out of {len(t[0,:])} \\nwhich is {classification_errors/len(t[0,:])*100}%')"
   ]
  }
 ],
 "metadata": {
  "kernelspec": {
   "display_name": "Python 3",
   "language": "python",
   "name": "python3"
  },
  "language_info": {
   "codemirror_mode": {
    "name": "ipython",
    "version": 3
   },
   "file_extension": ".py",
   "mimetype": "text/x-python",
   "name": "python",
   "nbconvert_exporter": "python",
   "pygments_lexer": "ipython3",
   "version": "3.10.2"
  },
  "orig_nbformat": 4
 },
 "nbformat": 4,
 "nbformat_minor": 2
}
