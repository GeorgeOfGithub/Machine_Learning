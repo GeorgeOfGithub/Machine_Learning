{
 "cells": [
  {
   "cell_type": "code",
   "execution_count": 6,
   "metadata": {},
   "outputs": [],
   "source": [
    "import torch\n",
    "import torch.nn as nn\n",
    "import torch.optim as optim\n",
    "import numpy as np\n",
    "\n",
    "L = 1000\n",
    "sigma = 1\n",
    "eta = 0.09\n",
    "\n",
    "input = np.array([[-3],[-1],[1],[3]])\n",
    "output = np.array([[0,0,0,1],[0,0,1,0],[0,1,0,0],[1,0,0,0]])\n",
    "\n",
    "data_set_t = []\n",
    "data_set_x = []\n",
    "for i in range(L):\n",
    "    n = np.random.randint(0,4)\n",
    "    data_set_t.append(output[n])\n",
    "    data_set_x.append(input[n])\n",
    "\n",
    "data_set_x_noise = data_set_x + sigma*np.random.randn(len(data_set_t),1)\n",
    "data_set = np.hstack((data_set_x_noise,data_set_t))\n",
    "\n",
    "#data_set = np.hstack((data_set_x,data_set_t))\n",
    "\n",
    "percent_for_train = 0.8\n",
    "amount = int(percent_for_train*len(data_set))\n",
    "\n",
    "train_dataset = data_set[0:amount,:]\n",
    "test_dataset = data_set[amount+1:,:]\n",
    "\n",
    "# Making into tensor\n",
    "train_dataset =torch.tensor(train_dataset)\n",
    "test_dataset = torch.tensor(test_dataset)\n",
    "train_dataset = train_dataset.clone().detach()\n",
    "test_dataset = test_dataset.clone().detach()\n"
   ]
  },
  {
   "cell_type": "code",
   "execution_count": 7,
   "metadata": {},
   "outputs": [],
   "source": [
    "# Define the neural network architecture\n",
    "class Net(nn.Module):\n",
    "    def __init__(self):\n",
    "        super(Net, self).__init__()\n",
    "        self.fc1 = nn.Linear(1, 50)\n",
    "        self.fc2 = nn.Linear(50, 4)\n",
    "\n",
    "    def forward(self, x):\n",
    "        x = torch.relu(self.fc1(x))\n",
    "        x = self.fc2(x)\n",
    "        return x\n",
    "\n",
    "# Define the training data\n",
    "input_data = torch.randn(100, 1)\n",
    "\n",
    "input_data = train_dataset[:,0]\n",
    "input_data = torch.reshape(input_data,(amount,1))\n",
    "input_data = input_data.to(torch.float32)\n",
    "\n",
    "\n",
    "# Define the labels\n",
    "labels = train_dataset[:,1:]\n",
    "labels = torch.reshape(labels,(amount,4))\n",
    "labels = labels.to(torch.float32)\n",
    "\n",
    "# Define the model\n",
    "net = Net()\n",
    "\n",
    "# Define the loss function and optimizer\n",
    "criterion = nn.MSELoss()\n",
    "optimizer = optim.SGD(net.parameters(), lr=0.09)\n",
    "\n",
    "# Train the model for 100 epochs\n",
    "for epoch in range(1000):\n",
    "    # Zero the gradients\n",
    "    optimizer.zero_grad()\n",
    "\n",
    "    # Forward pass\n",
    "    outputs = net(input_data)\n",
    "\n",
    "    # Compute the loss\n",
    "    loss = criterion(outputs, labels)\n",
    "\n",
    "    # Backward pass and update the weights\n",
    "    loss.backward()\n",
    "    optimizer.step()\n"
   ]
  },
  {
   "attachments": {},
   "cell_type": "markdown",
   "metadata": {},
   "source": [
    "Testing the output on test data"
   ]
  },
  {
   "cell_type": "code",
   "execution_count": 8,
   "metadata": {},
   "outputs": [],
   "source": [
    "test_input = test_dataset[:,0]\n",
    "test_input = torch.reshape(test_input,(L-amount-1,1))\n",
    "test_input = test_input.to(torch.float32)\n",
    "output = net(test_input)\n",
    "t_calc = []\n",
    "for i in range(len(output)):\n",
    "    result = [tensor.item() for tensor in output[i]]\n",
    "    t_calc.append(result)\n",
    "\n",
    "t = []\n",
    "for i in range(len(test_dataset)):\n",
    "    result = [tensor.item() for tensor in test_dataset[i,1:]]\n",
    "    t.append(result)"
   ]
  },
  {
   "cell_type": "code",
   "execution_count": 9,
   "metadata": {},
   "outputs": [
    {
     "name": "stdout",
     "output_type": "stream",
     "text": [
      "The number of classification errors with logistic regression is: 41 out of 199 \n",
      "which is 20.603015075376884%\n"
     ]
    }
   ],
   "source": [
    "\n",
    "classification_errors = 0\n",
    "for i in range(len(output)):\n",
    "    if np.argmax(t_calc[i]) == np.argmax(t[i]):\n",
    "        # Succes!\n",
    "        continue\n",
    "    else:\n",
    "        classification_errors = classification_errors + 1    \n",
    "\n",
    "print(f'The number of classification errors with logistic regression is: {classification_errors} out of {len(t)} \\nwhich is {classification_errors/len(t)*100}%')"
   ]
  }
 ],
 "metadata": {
  "kernelspec": {
   "display_name": "Python 3",
   "language": "python",
   "name": "python3"
  },
  "language_info": {
   "codemirror_mode": {
    "name": "ipython",
    "version": 3
   },
   "file_extension": ".py",
   "mimetype": "text/x-python",
   "name": "python",
   "nbconvert_exporter": "python",
   "pygments_lexer": "ipython3",
   "version": "3.10.2"
  },
  "orig_nbformat": 4
 },
 "nbformat": 4,
 "nbformat_minor": 2
}
